{
 "cells": [
  {
   "cell_type": "markdown",
   "metadata": {},
   "source": []
  },
  {
   "cell_type": "markdown",
   "metadata": {},
   "source": [
    "# File Class\n",
    "\n",
    "### tarkash.file.common.File\n",
    "\n",
    "File class is the base for all file related handler classes.\n",
    "\n",
    "In itself it provides basic path checking and offers various named properties. That't what we try out here.\n",
    "\n",
    "Note: It is a representational object for a file and does not itself handle reading/writing to files."
   ]
  },
  {
   "cell_type": "markdown",
   "metadata": {},
   "source": [
    "### Initialise Tarkash\n",
    "\n",
    "1. Let's add the directory containing tarkash to Python path.\n",
    "2. Initialise Tarkash. "
   ]
  },
  {
   "cell_type": "code",
   "execution_count": null,
   "metadata": {},
   "outputs": [],
   "source": [
    "import os, sys\n",
    "sys.path.append(\"../../..\")\n",
    "\n",
    "from tarkash import init\n",
    "init()"
   ]
  },
  {
   "cell_type": "code",
   "execution_count": null,
   "metadata": {},
   "outputs": [],
   "source": [
    "from tarkash.file.common import File\n",
    "# Utility functions to help only for testing purposes\n",
    "from notebooks.test_utils import *"
   ]
  },
  {
   "cell_type": "markdown",
   "metadata": {},
   "source": [
    "### Creating a File object with an Absolute File Path (Correct Path)\n",
    "\n",
    "Let's dynamically calculate an absolute path. \n",
    "\n",
    "In Jupyter notebooks, the current working directory is the directory where the notebook is located.\n",
    "\n",
    "Note: __file__ does not work in a Jupyter notebook."
   ]
  },
  {
   "cell_type": "code",
   "execution_count": null,
   "metadata": {},
   "outputs": [],
   "source": [
    "abs_path = File.join_paths(TEST_DIR, \"data/files/flat/test.txt\")\n",
    "print(abs_path)\n",
    "f = File(abs_path) "
   ]
  },
  {
   "cell_type": "markdown",
   "metadata": {},
   "source": [
    "### Meta-Data of File Object"
   ]
  },
  {
   "cell_type": "code",
   "execution_count": null,
   "metadata": {},
   "outputs": [],
   "source": [
    "print(f.path)\n",
    "print(f.full_path)\n",
    "print(f.exists)\n",
    "print(f.has_relative_path)\n",
    "print(f.is_file)"
   ]
  },
  {
   "cell_type": "markdown",
   "metadata": {},
   "source": [
    "You can also inquire meta-data using **meta** property, which can give additional details."
   ]
  },
  {
   "cell_type": "code",
   "execution_count": null,
   "metadata": {},
   "outputs": [],
   "source": [
    "print(f.meta)"
   ]
  },
  {
   "cell_type": "markdown",
   "metadata": {},
   "source": [
    "Let's print the object itself."
   ]
  },
  {
   "cell_type": "code",
   "execution_count": null,
   "metadata": {},
   "outputs": [],
   "source": [
    "print(f)"
   ]
  },
  {
   "cell_type": "markdown",
   "metadata": {},
   "source": [
    "### File Object with Relative Path\n",
    "\n",
    "The File object calculates the relative path in the following order:\n",
    "1. If an environment variable is defined with the name \"PROJECT_ROOT_DIR\", then it considers that as the base path.\n",
    "2. If the above variable is not present, then it considers the current working directory as the base path."
   ]
  },
  {
   "cell_type": "code",
   "execution_count": null,
   "metadata": {},
   "outputs": [],
   "source": [
    "# I've an environment variable with PROJECT_ROOT_DIR pointing to the root directory up to \"notebooks\" in this repository.\n",
    "\n",
    "f = File(\"data/files/flat/test.txt\")"
   ]
  },
  {
   "cell_type": "code",
   "execution_count": null,
   "metadata": {},
   "outputs": [],
   "source": [
    "print(f)"
   ]
  },
  {
   "cell_type": "markdown",
   "metadata": {},
   "source": [
    "#### Print the object trace"
   ]
  },
  {
   "cell_type": "code",
   "execution_count": null,
   "metadata": {},
   "outputs": [],
   "source": [
    "pretty_print(f.traces)"
   ]
  },
  {
   "cell_type": "code",
   "execution_count": null,
   "metadata": {},
   "outputs": [],
   "source": [
    "# I now don't have an environment variable with PROJECT_ROOT_DIR pointing to the root directory up to \"notebooks\" in this repository.\n",
    "\n",
    "# We'll need to change the relative path as the current working directory in case of Jupyter notebook is the directory containing this file.\n",
    "f = File(\"../../data/files/flat/test.txt\")"
   ]
  },
  {
   "cell_type": "code",
   "execution_count": null,
   "metadata": {},
   "outputs": [],
   "source": [
    "print(f)"
   ]
  },
  {
   "cell_type": "code",
   "execution_count": null,
   "metadata": {},
   "outputs": [],
   "source": [
    "pretty_print(f.traces)"
   ]
  },
  {
   "cell_type": "markdown",
   "metadata": {},
   "source": [
    "### The importance of should_exist argument\n",
    "\n",
    "**should_exist** enforces a path check in File object. By default it is False. If you pass it as True, then there will be an exception raised if there is not file at this location."
   ]
  },
  {
   "cell_type": "code",
   "execution_count": null,
   "metadata": {},
   "outputs": [],
   "source": [
    "# No exception\n",
    "f = File(\"does_not_exist.txt\")\n",
    "print(f)"
   ]
  },
  {
   "cell_type": "code",
   "execution_count": null,
   "metadata": {},
   "outputs": [],
   "source": [
    "# Non-existing Absolute Path\n",
    "f = File(\"/Users/rahulverma/Documents/does_not_exist.txt\", should_exist=True)"
   ]
  },
  {
   "cell_type": "code",
   "execution_count": null,
   "metadata": {},
   "outputs": [],
   "source": [
    "f = File(\"does_not_exist.txt\", should_exist=True)"
   ]
  },
  {
   "cell_type": "markdown",
   "metadata": {},
   "source": [
    "### Defining Purpose of the Object\n",
    "\n",
    "Just like other Tarkash objects, you can define the purpose of a File. This helps during troubleshooting."
   ]
  },
  {
   "cell_type": "code",
   "execution_count": null,
   "metadata": {},
   "outputs": [],
   "source": [
    "# No exception\n",
    "f = File(\"does_not_exist.txt\", purpose=\"Config File\")\n",
    "print(f)"
   ]
  },
  {
   "cell_type": "code",
   "execution_count": null,
   "metadata": {},
   "outputs": [],
   "source": [
    "f = File(\"does_not_exist.txt\", purpose=\"Config File\", should_exist=True)"
   ]
  },
  {
   "cell_type": "markdown",
   "metadata": {},
   "source": [
    "### Some additional checks"
   ]
  },
  {
   "cell_type": "code",
   "execution_count": null,
   "metadata": {},
   "outputs": [],
   "source": [
    "f = File(1)"
   ]
  },
  {
   "cell_type": "code",
   "execution_count": null,
   "metadata": {},
   "outputs": [],
   "source": [
    "f = File(\"something.txt\", should_exist=1)"
   ]
  },
  {
   "cell_type": "code",
   "execution_count": null,
   "metadata": {},
   "outputs": [],
   "source": [
    "f = File(\"something.txt\", try_relative_path=1)"
   ]
  },
  {
   "cell_type": "code",
   "execution_count": null,
   "metadata": {},
   "outputs": [],
   "source": [
    "f = File(\"something.txt\")\n",
    "f.path = \"something_else.txt\"\n",
    "print(f.path)"
   ]
  },
  {
   "cell_type": "code",
   "execution_count": null,
   "metadata": {},
   "outputs": [],
   "source": [
    "f.a = 2"
   ]
  }
 ],
 "metadata": {
  "kernelspec": {
   "display_name": "py3108",
   "language": "python",
   "name": "python3"
  },
  "language_info": {
   "codemirror_mode": {
    "name": "ipython",
    "version": 3
   },
   "file_extension": ".py",
   "mimetype": "text/x-python",
   "name": "python",
   "nbconvert_exporter": "python",
   "pygments_lexer": "ipython3",
   "version": "3.10.8"
  }
 },
 "nbformat": 4,
 "nbformat_minor": 2
}
