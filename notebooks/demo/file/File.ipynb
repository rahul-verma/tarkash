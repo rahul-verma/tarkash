{
 "cells": [
  {
   "cell_type": "markdown",
   "metadata": {},
   "source": []
  },
  {
   "cell_type": "markdown",
   "metadata": {},
   "source": [
    "# File Class\n",
    "\n",
    "### tarkash.file.common.File\n",
    "\n",
    "File class is the base for all file related handler classes.\n",
    "\n",
    "In itself it provides basic path checking and offers various named properties. That't what we try out here."
   ]
  },
  {
   "cell_type": "markdown",
   "metadata": {},
   "source": [
    "### Initialise Tarkash\n",
    "\n",
    "1. Let's add the directory containing tarkash to Python path.\n",
    "2. Initialise Tarkash. "
   ]
  },
  {
   "cell_type": "code",
   "execution_count": 1,
   "metadata": {},
   "outputs": [],
   "source": [
    "import os, sys\n",
    "sys.path.append(\"../../..\")\n",
    "\n",
    "from tarkash import init\n",
    "init()"
   ]
  },
  {
   "cell_type": "code",
   "execution_count": 2,
   "metadata": {},
   "outputs": [],
   "source": [
    "from tarkash.file.common import File\n",
    "# Utility functions to help only for testing purposes\n",
    "from notebooks.test_utils import *"
   ]
  },
  {
   "cell_type": "markdown",
   "metadata": {},
   "source": [
    "### Creating a File object with an Absolute File Path (Correct Path)\n",
    "\n",
    "Let's dynamically calculate an absolute path. \n",
    "\n",
    "In Jupyter notebooks, the current working directory is the directory where the notebook is located.\n",
    "\n",
    "Note: __file__ does not work in a Jupyter notebook."
   ]
  },
  {
   "cell_type": "code",
   "execution_count": 3,
   "metadata": {},
   "outputs": [
    {
     "name": "stdout",
     "output_type": "stream",
     "text": [
      "/Users/rahulverma/Documents/GitHub/data/files/flat/test.txt\n"
     ]
    }
   ],
   "source": [
    "abs_path = File.join_paths(TEST_DIR, \"../../data/files/flat/test.txt\")\n",
    "print(abs_path)\n",
    "f = File(abs_path) # Provide "
   ]
  },
  {
   "cell_type": "markdown",
   "metadata": {},
   "source": [
    "### Meta-Data of File Object"
   ]
  },
  {
   "cell_type": "code",
   "execution_count": 4,
   "metadata": {},
   "outputs": [
    {
     "name": "stdout",
     "output_type": "stream",
     "text": [
      "/Users/rahulverma/Documents/GitHub/data/files/flat/test.txt\n",
      "/Users/rahulverma/Documents/GitHub/data/files/flat/test.txt\n",
      "True\n",
      "False\n"
     ]
    }
   ],
   "source": [
    "print(f.path)\n",
    "print(f.full_path)\n",
    "print(f.exists)\n",
    "print(f.is_relative)"
   ]
  },
  {
   "cell_type": "markdown",
   "metadata": {},
   "source": [
    "You can also inquire meta-data using **meta** property, which can give additional details."
   ]
  },
  {
   "cell_type": "code",
   "execution_count": 5,
   "metadata": {},
   "outputs": [
    {
     "name": "stdout",
     "output_type": "stream",
     "text": [
      "{'purpose': 'NOT_SET', 'class': 'tarkash.file.common.File', 'path': '/Users/rahulverma/Documents/GitHub/data/files/flat/test.txt', 'full_path': '/Users/rahulverma/Documents/GitHub/data/files/flat/test.txt', 'is_relative': False, 'should_exist': False, 'exists': True}\n"
     ]
    }
   ],
   "source": [
    "print(f.meta)"
   ]
  },
  {
   "cell_type": "markdown",
   "metadata": {},
   "source": [
    "Let's print the object itself."
   ]
  },
  {
   "cell_type": "code",
   "execution_count": 6,
   "metadata": {},
   "outputs": [
    {
     "name": "stdout",
     "output_type": "stream",
     "text": [
      "Object Properties:\n",
      "Purpose: NOT_SET\n",
      "Class: tarkash.file.common.File\n",
      "Path: /Users/rahulverma/Documents/GitHub/data/files/flat/test.txt\n",
      "Full_Path: /Users/rahulverma/Documents/GitHub/data/files/flat/test.txt\n",
      "Is_Relative: False\n",
      "Should_Exist: False\n",
      "Exists: True\n",
      "\n"
     ]
    }
   ],
   "source": [
    "print(f)"
   ]
  },
  {
   "cell_type": "code",
   "execution_count": null,
   "metadata": {},
   "outputs": [],
   "source": []
  },
  {
   "cell_type": "code",
   "execution_count": null,
   "metadata": {},
   "outputs": [],
   "source": []
  },
  {
   "cell_type": "code",
   "execution_count": 7,
   "metadata": {},
   "outputs": [
    {
     "name": "stdout",
     "output_type": "stream",
     "text": [
      "../../data/files/flat/test.txt\n"
     ]
    },
    {
     "ename": "UnboundLocalError",
     "evalue": "local variable 'base_path' referenced before assignment",
     "output_type": "error",
     "traceback": [
      "\u001b[0;31m---------------------------------------------------------------------------\u001b[0m",
      "\u001b[0;31mUnboundLocalError\u001b[0m                         Traceback (most recent call last)",
      "Cell \u001b[0;32mIn[7], line 3\u001b[0m\n\u001b[1;32m      1\u001b[0m rel_path \u001b[38;5;241m=\u001b[39m \u001b[38;5;124m\"\u001b[39m\u001b[38;5;124m../../data/files/flat/test.txt\u001b[39m\u001b[38;5;124m\"\u001b[39m\n\u001b[1;32m      2\u001b[0m \u001b[38;5;28mprint\u001b[39m(rel_path)\n\u001b[0;32m----> 3\u001b[0m f \u001b[38;5;241m=\u001b[39m \u001b[43mFile\u001b[49m\u001b[43m(\u001b[49m\u001b[43mrel_path\u001b[49m\u001b[43m)\u001b[49m \u001b[38;5;66;03m# Provide \u001b[39;00m\n",
      "File \u001b[0;32m~/Documents/GitHub/tarkash/notebooks/demo/file/../../../tarkash/file/common.py:48\u001b[0m, in \u001b[0;36mFile.__init__\u001b[0;34m(self, path, try_relative_path, should_exist, **kwargs)\u001b[0m\n\u001b[1;32m     46\u001b[0m \u001b[38;5;28mself\u001b[39m\u001b[38;5;241m.\u001b[39m__relative \u001b[38;5;241m=\u001b[39m \u001b[38;5;28;01mFalse\u001b[39;00m\n\u001b[1;32m     47\u001b[0m \u001b[38;5;28mself\u001b[39m\u001b[38;5;241m.\u001b[39m__full_path \u001b[38;5;241m=\u001b[39m \u001b[38;5;124m\"\u001b[39m\u001b[38;5;124mNOT_SET\u001b[39m\u001b[38;5;124m\"\u001b[39m\n\u001b[0;32m---> 48\u001b[0m \u001b[38;5;28;43mself\u001b[39;49m\u001b[38;5;241;43m.\u001b[39;49m\u001b[43m__determine_file_path\u001b[49m\u001b[43m(\u001b[49m\u001b[43m)\u001b[49m\n",
      "File \u001b[0;32m~/Documents/GitHub/tarkash/notebooks/demo/file/../../../tarkash/file/common.py:128\u001b[0m, in \u001b[0;36mFile.__determine_file_path\u001b[0;34m(self)\u001b[0m\n\u001b[1;32m    126\u001b[0m     \u001b[38;5;28;01melse\u001b[39;00m:\n\u001b[1;32m    127\u001b[0m         \u001b[38;5;28mself\u001b[39m\u001b[38;5;241m.\u001b[39mtraces\u001b[38;5;241m.\u001b[39mappend(\u001b[38;5;124mf\u001b[39m\u001b[38;5;124m\"\u001b[39m\u001b[38;5;124mConverting to absolute path.\u001b[39m\u001b[38;5;124m\"\u001b[39m)\n\u001b[0;32m--> 128\u001b[0m         \u001b[38;5;28;43mself\u001b[39;49m\u001b[38;5;241;43m.\u001b[39;49m\u001b[43m__convert_to_abs_path\u001b[49m\u001b[43m(\u001b[49m\u001b[43m)\u001b[49m\n\u001b[1;32m    129\u001b[0m         \u001b[38;5;28mself\u001b[39m\u001b[38;5;241m.\u001b[39m__check_path_exists(file_path)\n\u001b[1;32m    131\u001b[0m \u001b[38;5;28;01mreturn\u001b[39;00m file_path\n",
      "File \u001b[0;32m~/Documents/GitHub/tarkash/notebooks/demo/file/../../../tarkash/file/common.py:99\u001b[0m, in \u001b[0;36mFile.__convert_to_abs_path\u001b[0;34m(self)\u001b[0m\n\u001b[1;32m     90\u001b[0m \u001b[38;5;28;01mdef\u001b[39;00m \u001b[38;5;21m__convert_to_abs_path\u001b[39m(\u001b[38;5;28mself\u001b[39m):\n\u001b[1;32m     91\u001b[0m \u001b[38;5;250m    \u001b[39m\u001b[38;5;124;03m\"\"\"\u001b[39;00m\n\u001b[1;32m     92\u001b[0m \u001b[38;5;124;03m    Populate full_path with absolute path.\u001b[39;00m\n\u001b[1;32m     93\u001b[0m \u001b[38;5;124;03m        \u001b[39;00m\n\u001b[0;32m   (...)\u001b[0m\n\u001b[1;32m     97\u001b[0m \u001b[38;5;124;03m        2. Current working directory.\u001b[39;00m\n\u001b[1;32m     98\u001b[0m \u001b[38;5;124;03m    \"\"\"\u001b[39;00m\n\u001b[0;32m---> 99\u001b[0m     \u001b[38;5;28;01mif\u001b[39;00m \u001b[38;5;129;01mnot\u001b[39;00m \u001b[43mbase_path\u001b[49m:\n\u001b[1;32m    100\u001b[0m         \u001b[38;5;28;01mif\u001b[39;00m os\u001b[38;5;241m.\u001b[39menviron\u001b[38;5;241m.\u001b[39mget(\u001b[38;5;124m\"\u001b[39m\u001b[38;5;124mPROJECT_ROOT_DIR\u001b[39m\u001b[38;5;124m\"\u001b[39m):\n\u001b[1;32m    101\u001b[0m             base_path \u001b[38;5;241m=\u001b[39m os\u001b[38;5;241m.\u001b[39menviron\u001b[38;5;241m.\u001b[39mget(\u001b[38;5;124m\"\u001b[39m\u001b[38;5;124mPROJECT_ROOT_DIR\u001b[39m\u001b[38;5;124m\"\u001b[39m)\n",
      "\u001b[0;31mUnboundLocalError\u001b[0m: local variable 'base_path' referenced before assignment"
     ]
    }
   ],
   "source": [
    "rel_path = \"../../data/files/flat/test.txt\"\n",
    "print(rel_path)\n",
    "f = File(rel_path) # Provide "
   ]
  }
 ],
 "metadata": {
  "kernelspec": {
   "display_name": "py3108",
   "language": "python",
   "name": "python3"
  },
  "language_info": {
   "codemirror_mode": {
    "name": "ipython",
    "version": 3
   },
   "file_extension": ".py",
   "mimetype": "text/x-python",
   "name": "python",
   "nbconvert_exporter": "python",
   "pygments_lexer": "ipython3",
   "version": "3.10.8"
  }
 },
 "nbformat": 4,
 "nbformat_minor": 2
}
